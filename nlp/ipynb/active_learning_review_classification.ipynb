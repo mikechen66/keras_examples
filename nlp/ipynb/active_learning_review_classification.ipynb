{
 "cells": [
  {
   "cell_type": "markdown",
   "metadata": {
    "colab_type": "text"
   },
   "source": [
    "# Review Classification using Active Learning\n",
    "\n",
    "**Author:** [Darshan Deshpande](https://twitter.com/getdarshan)<br>\n",
    "**Date created:** 2021/10/29<br>\n",
    "**Last modified:** 2021/10/29<br>\n",
    "**Description:** Demonstrating the advantages of active learning through review classification."
   ]
  },
  {
   "cell_type": "markdown",
   "metadata": {
    "colab_type": "text"
   },
   "source": [
    "## Introduction\n",
    "\n",
    "With the growth of data-centric Machine Learning, Active Learning has grown in popularity\n",
    "amongst businesses and researchers. Active Learning seeks to progressively\n",
    "train ML models so that the resultant model requires lesser amount of training data to\n",
    "achieve competitive scores.\n",
    "\n",
    "The structure of an Active Learning pipeline involves a classifier and an oracle. The\n",
    "oracle is an annotator that cleans, selects, labels the data, and feeds it to the model\n",
    "when required. The oracle is a trained individual or a group of individuals that\n",
    "ensure consistency in labeling of new data.\n",
    "\n",
    "The process starts with annotating a small subset of the full dataset and training an\n",
    "initial model. The best model checkpoint is saved and then tested on a balanced test\n",
    "set. The test set must be carefully sampled because the full training process will be\n",
    "dependent on it. Once we have the initial evaluation scores, the oracle is tasked with\n",
    "labeling more samples; the number of data points to be sampled is usually determined by\n",
    "the business requirements. After that, the newly sampled data is added to the training\n",
    "set, and the training procedure repeats. This cycle continues until either an\n",
    "acceptable score is reached or some other business metric is met.\n",
    "\n",
    "This tutorial provides a basic demonstration of how Active Learning works by\n",
    "demonstrating a ratio-based (least confidence) sampling strategy that results in lower\n",
    "overall false positive and negative rates when compared to a model trained on the entire\n",
    "dataset. This sampling falls under the domain of *uncertanity sampling*, in which new\n",
    "datasets are sampled based on the uncertanity that the model outputs for the\n",
    "corresponding label. In our example, we compare our model's false positive and false\n",
    "negative rates and annotate the new data based on their ratio.\n",
    "\n",
    "Some other sampling techniques include:\n",
    "\n",
    "1. [Committee sampling](https://www.researchgate.net/publication/51909346_Committee-Based_Sample_Selection_for_Probabilistic_Classifiers):\n",
    "Using multiple models to vote for the best data points to be sampled\n",
    "2. [Entropy reduction](https://www.researchgate.net/publication/51909346_Committee-Based_Sample_Selection_for_Probabilistic_Classifiers):\n",
    "Sampling according to an entropy threshold, selecting more of the samples that produce the highest entropy score.\n",
    "3. [Minimum margin based sampling](https://arxiv.org/abs/1906.00025v1):\n",
    "Selects data points closest to the decision boundary"
   ]
  },
  {
   "cell_type": "markdown",
   "metadata": {
    "colab_type": "text"
   },
   "source": [
    "## Importing required libraries"
   ]
  },
  {
   "cell_type": "code",
   "execution_count": 1,
   "metadata": {
    "colab_type": "code"
   },
   "outputs": [
    {
     "name": "stderr",
     "output_type": "stream",
     "text": [
      "2022-11-22 16:28:13.814256: I tensorflow/core/platform/cpu_feature_guard.cc:193] This TensorFlow binary is optimized with oneAPI Deep Neural Network Library (oneDNN) to use the following CPU instructions in performance-critical operations:  SSE4.1 SSE4.2 AVX AVX2 FMA\n",
      "To enable them in other operations, rebuild TensorFlow with the appropriate compiler flags.\n"
     ]
    }
   ],
   "source": [
    "import tensorflow_datasets as tfds\n",
    "import tensorflow as tf\n",
    "from tensorflow import keras\n",
    "from tensorflow.keras import layers\n",
    "import matplotlib.pyplot as plt\n",
    "import re\n",
    "import string\n",
    "\n",
    "tfds.disable_progress_bar()"
   ]
  },
  {
   "cell_type": "markdown",
   "metadata": {
    "colab_type": "text"
   },
   "source": [
    "## Loading and preprocessing the data\n",
    "\n",
    "We will be using the IMDB reviews dataset for our experiments. This dataset has 50,000\n",
    "reviews in total, including training and testing splits. We will merge these splits and\n",
    "sample our own, balanced training, validation and testing sets."
   ]
  },
  {
   "cell_type": "code",
   "execution_count": 2,
   "metadata": {
    "colab_type": "code"
   },
   "outputs": [
    {
     "name": "stderr",
     "output_type": "stream",
     "text": [
      "2022-11-22 16:28:16.042202: I tensorflow/core/platform/cpu_feature_guard.cc:193] This TensorFlow binary is optimized with oneAPI Deep Neural Network Library (oneDNN) to use the following CPU instructions in performance-critical operations:  SSE4.1 SSE4.2 AVX AVX2 FMA\n",
      "To enable them in other operations, rebuild TensorFlow with the appropriate compiler flags.\n",
      "2022-11-22 16:28:16.043168: I tensorflow/core/common_runtime/process_util.cc:146] Creating new thread pool with default inter op setting: 2. Tune using inter_op_parallelism_threads for best performance.\n"
     ]
    },
    {
     "name": "stdout",
     "output_type": "stream",
     "text": [
      "Total examples: 50000\n"
     ]
    }
   ],
   "source": [
    "dataset = tfds.load(\n",
    "    \"imdb_reviews\",\n",
    "    split=\"train + test\",\n",
    "    as_supervised=True,\n",
    "    batch_size=-1,\n",
    "    shuffle_files=False,\n",
    ")\n",
    "reviews, labels = tfds.as_numpy(dataset)\n",
    "\n",
    "print(\"Total examples:\", reviews.shape[0])"
   ]
  },
  {
   "cell_type": "markdown",
   "metadata": {
    "colab_type": "text"
   },
   "source": [
    "Active learning starts with labeling a subset of data.\n",
    "For the ratio sampling technique that we will be using, we will need well-balanced training,\n",
    "validation and testing splits."
   ]
  },
  {
   "cell_type": "code",
   "execution_count": 3,
   "metadata": {
    "colab_type": "code"
   },
   "outputs": [
    {
     "name": "stdout",
     "output_type": "stream",
     "text": [
      "Initial training set size: 15000\n",
      "Validation set size: 5000\n",
      "Testing set size: 5000\n",
      "Unlabeled negative pool: 12500\n",
      "Unlabeled positive pool: 12500\n"
     ]
    }
   ],
   "source": [
    "val_split = 2500\n",
    "test_split = 2500\n",
    "train_split = 7500\n",
    "\n",
    "# Separating the negative and positive samples for manual stratification\n",
    "x_positives, y_positives = reviews[labels == 1], labels[labels == 1]\n",
    "x_negatives, y_negatives = reviews[labels == 0], labels[labels == 0]\n",
    "\n",
    "# Creating training, validation and testing splits\n",
    "x_val, y_val = (\n",
    "    tf.concat((x_positives[:val_split], x_negatives[:val_split]), 0),\n",
    "    tf.concat((y_positives[:val_split], y_negatives[:val_split]), 0),\n",
    ")\n",
    "x_test, y_test = (\n",
    "    tf.concat(\n",
    "        (\n",
    "            x_positives[val_split : val_split + test_split],\n",
    "            x_negatives[val_split : val_split + test_split],\n",
    "        ),\n",
    "        0,\n",
    "    ),\n",
    "    tf.concat(\n",
    "        (\n",
    "            y_positives[val_split : val_split + test_split],\n",
    "            y_negatives[val_split : val_split + test_split],\n",
    "        ),\n",
    "        0,\n",
    "    ),\n",
    ")\n",
    "x_train, y_train = (\n",
    "    tf.concat(\n",
    "        (\n",
    "            x_positives[val_split + test_split : val_split + test_split + train_split],\n",
    "            x_negatives[val_split + test_split : val_split + test_split + train_split],\n",
    "        ),\n",
    "        0,\n",
    "    ),\n",
    "    tf.concat(\n",
    "        (\n",
    "            y_positives[val_split + test_split : val_split + test_split + train_split],\n",
    "            y_negatives[val_split + test_split : val_split + test_split + train_split],\n",
    "        ),\n",
    "        0,\n",
    "    ),\n",
    ")\n",
    "\n",
    "# Remaining pool of samples are stored separately. These are only labeled as and when required\n",
    "x_pool_positives, y_pool_positives = (\n",
    "    x_positives[val_split + test_split + train_split :],\n",
    "    y_positives[val_split + test_split + train_split :],\n",
    ")\n",
    "x_pool_negatives, y_pool_negatives = (\n",
    "    x_negatives[val_split + test_split + train_split :],\n",
    "    y_negatives[val_split + test_split + train_split :],\n",
    ")\n",
    "\n",
    "# Creating TF Datasets for faster prefetching and parallelization\n",
    "train_dataset = tf.data.Dataset.from_tensor_slices((x_train, y_train))\n",
    "val_dataset = tf.data.Dataset.from_tensor_slices((x_val, y_val))\n",
    "test_dataset = tf.data.Dataset.from_tensor_slices((x_test, y_test))\n",
    "\n",
    "pool_negatives = tf.data.Dataset.from_tensor_slices(\n",
    "    (x_pool_negatives, y_pool_negatives)\n",
    ")\n",
    "pool_positives = tf.data.Dataset.from_tensor_slices(\n",
    "    (x_pool_positives, y_pool_positives)\n",
    ")\n",
    "\n",
    "print(f\"Initial training set size: {len(train_dataset)}\")\n",
    "print(f\"Validation set size: {len(val_dataset)}\")\n",
    "print(f\"Testing set size: {len(test_dataset)}\")\n",
    "print(f\"Unlabeled negative pool: {len(pool_negatives)}\")\n",
    "print(f\"Unlabeled positive pool: {len(pool_positives)}\")"
   ]
  },
  {
   "cell_type": "markdown",
   "metadata": {
    "colab_type": "text"
   },
   "source": [
    "### Fitting the `TextVectorization` layer\n",
    "\n",
    "Since we are working with text data, we will need to encode the text strings as vectors which\n",
    "would then be passed through an `Embedding` layer. To make this tokenization process\n",
    "faster, we use the `map()` function with its parallelization functionality."
   ]
  },
  {
   "cell_type": "code",
   "execution_count": 4,
   "metadata": {
    "colab_type": "code"
   },
   "outputs": [],
   "source": [
    "\n",
    "def custom_standardization(input_data):\n",
    "    lowercase = tf.strings.lower(input_data)\n",
    "    stripped_html = tf.strings.regex_replace(lowercase, \"<br />\", \" \")\n",
    "    return tf.strings.regex_replace(\n",
    "        stripped_html, f\"[{re.escape(string.punctuation)}]\", \"\"\n",
    "    )\n",
    "\n",
    "\n",
    "vectorizer = layers.TextVectorization(\n",
    "    3000, standardize=custom_standardization, output_sequence_length=150\n",
    ")\n",
    "# Adapting the dataset\n",
    "vectorizer.adapt(\n",
    "    train_dataset.map(lambda x, y: x, num_parallel_calls=tf.data.AUTOTUNE).batch(256)\n",
    ")\n",
    "\n",
    "\n",
    "def vectorize_text(text, label):\n",
    "    text = vectorizer(text)\n",
    "    return text, label\n",
    "\n",
    "\n",
    "train_dataset = train_dataset.map(\n",
    "    vectorize_text, num_parallel_calls=tf.data.AUTOTUNE\n",
    ").prefetch(tf.data.AUTOTUNE)\n",
    "pool_negatives = pool_negatives.map(vectorize_text, num_parallel_calls=tf.data.AUTOTUNE)\n",
    "pool_positives = pool_positives.map(vectorize_text, num_parallel_calls=tf.data.AUTOTUNE)\n",
    "\n",
    "val_dataset = val_dataset.batch(256).map(\n",
    "    vectorize_text, num_parallel_calls=tf.data.AUTOTUNE\n",
    ")\n",
    "test_dataset = test_dataset.batch(256).map(\n",
    "    vectorize_text, num_parallel_calls=tf.data.AUTOTUNE\n",
    ")"
   ]
  },
  {
   "cell_type": "markdown",
   "metadata": {
    "colab_type": "text"
   },
   "source": [
    "## Creating Helper Functions"
   ]
  },
  {
   "cell_type": "code",
   "execution_count": 6,
   "metadata": {
    "colab_type": "code"
   },
   "outputs": [],
   "source": [
    "# Helper function for merging new history objects with older ones\n",
    "def append_history(losses, val_losses, accuracy, val_accuracy, history):\n",
    "    losses = losses + history.history[\"loss\"]\n",
    "    val_losses = val_losses + history.history[\"val_loss\"]\n",
    "    accuracy = accuracy + history.history[\"binary_accuracy\"]\n",
    "    val_accuracy = val_accuracy + history.history[\"val_binary_accuracy\"]\n",
    "    return losses, val_losses, accuracy, val_accuracy\n",
    "\n",
    "\n",
    "# Plotter function\n",
    "def plot_history(losses, val_losses, accuracies, val_accuracies):\n",
    "    plt.plot(losses)\n",
    "    plt.plot(val_losses)\n",
    "    plt.legend([\"train_loss\", \"val_loss\"])\n",
    "    plt.xlabel(\"Epochs\")\n",
    "    plt.ylabel(\"Loss\")\n",
    "    plt.show()\n",
    "\n",
    "    plt.plot(accuracies)\n",
    "    plt.plot(val_accuracies)\n",
    "    plt.legend([\"train_accuracy\", \"val_accuracy\"])\n",
    "    plt.xlabel(\"Epochs\")\n",
    "    plt.ylabel(\"Accuracy\")\n",
    "    plt.show()"
   ]
  },
  {
   "cell_type": "markdown",
   "metadata": {
    "colab_type": "text"
   },
   "source": [
    "## Creating the Model\n",
    "\n",
    "We create a small bidirectional LSTM model. When using Active Learning, you should make sure\n",
    "that the model architecture is capable of overfitting to the initial data.\n",
    "Overfitting gives a strong hint that the model will have enough capacity for\n",
    "future, unseen data."
   ]
  },
  {
   "cell_type": "code",
   "execution_count": 8,
   "metadata": {
    "colab_type": "code"
   },
   "outputs": [],
   "source": [
    "def create_model():\n",
    "    model = keras.models.Sequential(\n",
    "        [\n",
    "            layers.Input(shape=(150,)),\n",
    "            layers.Embedding(input_dim=3000, output_dim=128),\n",
    "            layers.Bidirectional(layers.LSTM(32, return_sequences=True)),\n",
    "            layers.GlobalMaxPool1D(),\n",
    "            layers.Dense(20, activation=\"relu\"),\n",
    "            layers.Dropout(0.5),\n",
    "            layers.Dense(1, activation=\"sigmoid\"),\n",
    "        ]\n",
    "    )\n",
    "    model.summary()\n",
    "    return model"
   ]
  },
  {
   "cell_type": "markdown",
   "metadata": {
    "colab_type": "text"
   },
   "source": [
    "## Training on the entire dataset\n",
    "\n",
    "To show the effectiveness of Active Learning, we will first train the model on the entire\n",
    "dataset containing 40,000 labeled samples. This model will be used for comparison later."
   ]
  },
  {
   "cell_type": "code",
   "execution_count": 10,
   "metadata": {
    "colab_type": "code"
   },
   "outputs": [
    {
     "name": "stdout",
     "output_type": "stream",
     "text": [
      "Model: \"sequential\"\n",
      "_________________________________________________________________\n",
      " Layer (type)                Output Shape              Param #   \n",
      "=================================================================\n",
      " embedding (Embedding)       (None, 150, 128)          384000    \n",
      "                                                                 \n",
      " bidirectional (Bidirectiona  (None, 150, 64)          41216     \n",
      " l)                                                              \n",
      "                                                                 \n",
      " global_max_pooling1d (Globa  (None, 64)               0         \n",
      " lMaxPooling1D)                                                  \n",
      "                                                                 \n",
      " dense (Dense)               (None, 20)                1300      \n",
      "                                                                 \n",
      " dropout (Dropout)           (None, 20)                0         \n",
      "                                                                 \n",
      " dense_1 (Dense)             (None, 1)                 21        \n",
      "                                                                 \n",
      "=================================================================\n",
      "Total params: 426,537\n",
      "Trainable params: 426,537\n",
      "Non-trainable params: 0\n",
      "_________________________________________________________________\n",
      "Epoch 1/5\n",
      "157/157 [==============================] - ETA: 0s - loss: 0.5159 - binary_accuracy: 0.7595 - false_negatives: 3452.0000 - false_positives: 6169.0000\n",
      "Epoch 1: val_loss improved from inf to 0.36189, saving model to FullModelCheckpoint.h5\n",
      "157/157 [==============================] - 38s 223ms/step - loss: 0.5159 - binary_accuracy: 0.7595 - false_negatives: 3452.0000 - false_positives: 6169.0000 - val_loss: 0.3619 - val_binary_accuracy: 0.8534 - val_false_negatives: 395.0000 - val_false_positives: 338.0000\n",
      "Epoch 2/5\n",
      "157/157 [==============================] - ETA: 0s - loss: 0.3648 - binary_accuracy: 0.8514 - false_negatives: 2841.0000 - false_positives: 3104.0000\n",
      "Epoch 2: val_loss improved from 0.36189 to 0.33462, saving model to FullModelCheckpoint.h5\n",
      "157/157 [==============================] - 34s 217ms/step - loss: 0.3648 - binary_accuracy: 0.8514 - false_negatives: 2841.0000 - false_positives: 3104.0000 - val_loss: 0.3346 - val_binary_accuracy: 0.8578 - val_false_negatives: 409.0000 - val_false_positives: 302.0000\n",
      "Epoch 3/5\n",
      "157/157 [==============================] - ETA: 0s - loss: 0.3238 - binary_accuracy: 0.8713 - false_negatives: 2384.0000 - false_positives: 2764.0000\n",
      "Epoch 3: val_loss did not improve from 0.33462\n",
      "157/157 [==============================] - 37s 232ms/step - loss: 0.3238 - binary_accuracy: 0.8713 - false_negatives: 2384.0000 - false_positives: 2764.0000 - val_loss: 0.3492 - val_binary_accuracy: 0.8508 - val_false_negatives: 510.0000 - val_false_positives: 236.0000\n",
      "Epoch 4/5\n",
      "157/157 [==============================] - ETA: 0s - loss: 0.3046 - binary_accuracy: 0.8796 - false_negatives: 2213.0000 - false_positives: 2601.0000\n",
      "Epoch 4: val_loss did not improve from 0.33462\n",
      "157/157 [==============================] - 36s 228ms/step - loss: 0.3046 - binary_accuracy: 0.8796 - false_negatives: 2213.0000 - false_positives: 2601.0000 - val_loss: 0.5696 - val_binary_accuracy: 0.7818 - val_false_negatives: 1014.0000 - val_false_positives: 77.0000\n",
      "Epoch 5/5\n",
      "157/157 [==============================] - ETA: 0s - loss: 0.2878 - binary_accuracy: 0.8860 - false_negatives: 2128.0000 - false_positives: 2433.0000\n",
      "Epoch 5: val_loss did not improve from 0.33462\n",
      "157/157 [==============================] - 34s 214ms/step - loss: 0.2878 - binary_accuracy: 0.8860 - false_negatives: 2128.0000 - false_positives: 2433.0000 - val_loss: 0.3383 - val_binary_accuracy: 0.8534 - val_false_negatives: 505.0000 - val_false_positives: 228.0000\n"
     ]
    },
    {
     "data": {
      "image/png": "[encoded data removed]",
      "text/plain": [
       "<Figure size 640x480 with 1 Axes>"
      ]
     },
     "metadata": {},
     "output_type": "display_data"
    },
    {
     "data": {
      "image/png": "[encoded data removed]",
      "text/plain": [
       "<Figure size 640x480 with 1 Axes>"
      ]
     },
     "metadata": {},
     "output_type": "display_data"
    },
    {
     "name": "stdout",
     "output_type": "stream",
     "text": [
      "----------------------------------------------------------------------------------------------------\n",
      "Test set evaluation:  {'loss': 0.3423825204372406, 'binary_accuracy': 0.8561999797821045, 'false_negatives': 419.0, 'false_positives': 300.0}\n",
      "----------------------------------------------------------------------------------------------------\n"
     ]
    }
   ],
   "source": [
    "def train_full_model(full_train_dataset, val_dataset, test_dataset):\n",
    "    model = create_model()\n",
    "    model.compile(\n",
    "        loss=\"binary_crossentropy\",\n",
    "        optimizer=\"rmsprop\",\n",
    "        metrics=[\n",
    "            keras.metrics.BinaryAccuracy(),\n",
    "            keras.metrics.FalseNegatives(),\n",
    "            keras.metrics.FalsePositives(),\n",
    "        ],\n",
    "    )\n",
    "\n",
    "    # We will save the best model at every epoch and load the best one for evaluation on the test set\n",
    "    history = model.fit(\n",
    "        full_train_dataset.batch(256),\n",
    "        epochs=5,\n",
    "        # epochs=20,\n",
    "        validation_data=val_dataset,\n",
    "        callbacks=[\n",
    "            keras.callbacks.EarlyStopping(patience=4, verbose=1),\n",
    "            keras.callbacks.ModelCheckpoint(\n",
    "                \"FullModelCheckpoint.h5\", verbose=1, save_best_only=True\n",
    "            ),\n",
    "        ],\n",
    "    )\n",
    "\n",
    "    # Plot history\n",
    "    plot_history(\n",
    "        history.history[\"loss\"],\n",
    "        history.history[\"val_loss\"],\n",
    "        history.history[\"binary_accuracy\"],\n",
    "        history.history[\"val_binary_accuracy\"],\n",
    "    )\n",
    "\n",
    "    # Loading the best checkpoint\n",
    "    model = keras.models.load_model(\"FullModelCheckpoint.h5\")\n",
    "\n",
    "    print(\"-\" * 100)\n",
    "    print(\n",
    "        \"Test set evaluation: \",\n",
    "        model.evaluate(test_dataset, verbose=0, return_dict=True),\n",
    "    )\n",
    "    print(\"-\" * 100)\n",
    "    return model\n",
    "\n",
    "\n",
    "# Sampling the full train dataset to train on\n",
    "full_train_dataset = (\n",
    "    train_dataset.concatenate(pool_positives)\n",
    "    .concatenate(pool_negatives)\n",
    "    .cache()\n",
    "    .shuffle(20000)\n",
    ")\n",
    "\n",
    "# Training the full model\n",
    "full_dataset_model = train_full_model(full_train_dataset, val_dataset, test_dataset)"
   ]
  },
  {
   "cell_type": "markdown",
   "metadata": {
    "colab_type": "text"
   },
   "source": [
    "## Training via Active Learning\n",
    "\n",
    "The general process we follow when performing Active Learning is demonstrated below:\n",
    "\n",
    "![Active Learning](https://i.imgur.com/dmNKusp.png)\n",
    "\n",
    "The pipeline can be summarized in five parts:\n",
    "\n",
    "1. Sample and annotate a small, balanced training dataset\n",
    "2. Train the model on this small subset\n",
    "3. Evaluate the model on a balanced testing set\n",
    "4. If the model satisfies the business criteria, deploy it in a real time setting\n",
    "5. If it doesn't pass the criteria, sample a few more samples according to the ratio of\n",
    "false positives and negatives, add them to the training set and repeat from step 2 till\n",
    "the model passes the tests or till all available data is exhausted.\n",
    "\n",
    "For the code below, we will perform sampling using the following formula:<br/>\n",
    "\n",
    "![Ratio Sampling](https://i.imgur.com/LyZEiZL.png)\n",
    "\n",
    "Active Learning techniques use callbacks extensively for progress tracking. We will be\n",
    "using model checkpointing and early stopping for this example. The `patience` parameter\n",
    "for Early Stopping can help minimize overfitting and the time required. We have set it\n",
    "`patience=4` for now but since the model is robust, we can increase the patience level if\n",
    "desired.\n",
    "\n",
    "Note: We are not loading the checkpoint after the first training iteration. In my\n",
    "experience working on Active Learning techniques, this helps the model probe the\n",
    "newly formed loss landscape. Even if the model fails to improve in the second iteration,\n",
    "we will still gain insight about the possible future false positive and negative rates.\n",
    "This will help us sample a better set in the next iteration where the model will have a\n",
    "greater chance to improve."
   ]
  },
  {
   "cell_type": "code",
   "execution_count": null,
   "metadata": {
    "colab_type": "code"
   },
   "outputs": [
    {
     "name": "stdout",
     "output_type": "stream",
     "text": [
      "Model: \"sequential_3\"\n",
      "_________________________________________________________________\n",
      " Layer (type)                Output Shape              Param #   \n",
      "=================================================================\n",
      " embedding_3 (Embedding)     (None, 150, 128)          384000    \n",
      "                                                                 \n",
      " bidirectional_3 (Bidirectio  (None, 150, 64)          41216     \n",
      " nal)                                                            \n",
      "                                                                 \n",
      " global_max_pooling1d_3 (Glo  (None, 64)               0         \n",
      " balMaxPooling1D)                                                \n",
      "                                                                 \n",
      " dense_6 (Dense)             (None, 20)                1300      \n",
      "                                                                 \n",
      " dropout_3 (Dropout)         (None, 20)                0         \n",
      "                                                                 \n",
      " dense_7 (Dense)             (None, 1)                 21        \n",
      "                                                                 \n",
      "=================================================================\n",
      "Total params: 426,537\n",
      "Trainable params: 426,537\n",
      "Non-trainable params: 0\n",
      "_________________________________________________________________\n",
      "Starting to train with 15000 samples\n",
      "Epoch 1/5\n",
      "59/59 [==============================] - ETA: 0s - loss: 0.6445 - binary_accuracy: 0.6527 - false_negatives_3: 3159.0000 - false_positives_3: 2051.0000\n",
      "Epoch 1: val_loss improved from inf to 0.47846, saving model to AL_Model.h5\n",
      "59/59 [==============================] - 17s 233ms/step - loss: 0.6445 - binary_accuracy: 0.6527 - false_negatives_3: 3159.0000 - false_positives_3: 2051.0000 - val_loss: 0.4785 - val_binary_accuracy: 0.8284 - val_false_negatives_3: 334.0000 - val_false_positives_3: 524.0000\n",
      "Epoch 2/5\n",
      "59/59 [==============================] - ETA: 0s - loss: 0.4749 - binary_accuracy: 0.8073 - false_negatives_3: 1507.0000 - false_positives_3: 1384.0000\n",
      "Epoch 2: val_loss improved from 0.47846 to 0.39806, saving model to AL_Model.h5\n",
      "59/59 [==============================] - 13s 227ms/step - loss: 0.4749 - binary_accuracy: 0.8073 - false_negatives_3: 1507.0000 - false_positives_3: 1384.0000 - val_loss: 0.3981 - val_binary_accuracy: 0.8438 - val_false_negatives_3: 444.0000 - val_false_positives_3: 337.0000\n",
      "Epoch 3/5\n",
      "59/59 [==============================] - ETA: 0s - loss: 0.4056 - binary_accuracy: 0.8413 - false_negatives_3: 1188.0000 - false_positives_3: 1193.0000\n",
      "Epoch 3: val_loss improved from 0.39806 to 0.35930, saving model to AL_Model.h5\n",
      "59/59 [==============================] - 14s 231ms/step - loss: 0.4056 - binary_accuracy: 0.8413 - false_negatives_3: 1188.0000 - false_positives_3: 1193.0000 - val_loss: 0.3593 - val_binary_accuracy: 0.8528 - val_false_negatives_3: 305.0000 - val_false_positives_3: 431.0000\n",
      "Epoch 4/5\n",
      "59/59 [==============================] - ETA: 0s - loss: 0.3602 - binary_accuracy: 0.8619 - false_negatives_3: 1000.0000 - false_positives_3: 1071.0000\n",
      "Epoch 4: val_loss did not improve from 0.35930\n",
      "59/59 [==============================] - 14s 233ms/step - loss: 0.3602 - binary_accuracy: 0.8619 - false_negatives_3: 1000.0000 - false_positives_3: 1071.0000 - val_loss: 0.3635 - val_binary_accuracy: 0.8430 - val_false_negatives_3: 208.0000 - val_false_positives_3: 577.0000\n",
      "Epoch 5/5\n",
      "59/59 [==============================] - ETA: 0s - loss: 0.3319 - binary_accuracy: 0.8723 - false_negatives_3: 886.0000 - false_positives_3: 1029.0000\n",
      "Epoch 5: val_loss improved from 0.35930 to 0.34964, saving model to AL_Model.h5\n",
      "59/59 [==============================] - 14s 232ms/step - loss: 0.3319 - binary_accuracy: 0.8723 - false_negatives_3: 886.0000 - false_positives_3: 1029.0000 - val_loss: 0.3496 - val_binary_accuracy: 0.8490 - val_false_negatives_3: 398.0000 - val_false_positives_3: 357.0000\n",
      "20/20 [==============================] - 2s 89ms/step\n",
      "----------------------------------------------------------------------------------------------------\n",
      "Number of zeros incorrectly classified: 417.0, Number of ones incorrectly classified: 334.0\n",
      "Sample ratio for positives: 0.4447403462050599, Sample ratio for negatives:0.5552596537949401\n",
      "Starting training with 19999 samples\n",
      "----------------------------------------------------------------------------------------------------\n",
      "Epoch 1/5\n",
      "79/79 [==============================] - ETA: 0s - loss: 0.3400 - binary_accuracy: 0.8711 - false_negatives_4: 1217.0000 - false_positives_4: 1361.0000\n",
      "Epoch 1: val_loss did not improve from 0.34964\n",
      "79/79 [==============================] - 22s 239ms/step - loss: 0.3400 - binary_accuracy: 0.8711 - false_negatives_4: 1217.0000 - false_positives_4: 1361.0000 - val_loss: 0.4655 - val_binary_accuracy: 0.7960 - val_false_negatives_4: 876.0000 - val_false_positives_4: 144.0000\n",
      "Epoch 2/5\n",
      "79/79 [==============================] - ETA: 0s - loss: 0.3082 - binary_accuracy: 0.8862 - false_negatives_4: 1101.0000 - false_positives_4: 1175.0000\n",
      "Epoch 2: val_loss did not improve from 0.34964\n",
      "79/79 [==============================] - 18s 222ms/step - loss: 0.3082 - binary_accuracy: 0.8862 - false_negatives_4: 1101.0000 - false_positives_4: 1175.0000 - val_loss: 0.3777 - val_binary_accuracy: 0.8448 - val_false_negatives_4: 438.0000 - val_false_positives_4: 338.0000\n",
      "Epoch 3/5\n",
      "79/79 [==============================] - ETA: 0s - loss: 0.2883 - binary_accuracy: 0.8941 - false_negatives_4: 965.0000 - false_positives_4: 1153.0000\n",
      "Epoch 3: val_loss did not improve from 0.34964\n",
      "79/79 [==============================] - 18s 223ms/step - loss: 0.2883 - binary_accuracy: 0.8941 - false_negatives_4: 965.0000 - false_positives_4: 1153.0000 - val_loss: 0.3589 - val_binary_accuracy: 0.8440 - val_false_negatives_4: 278.0000 - val_false_positives_4: 502.0000\n",
      "Epoch 4/5\n",
      "79/79 [==============================] - ETA: 0s - loss: 0.2737 - binary_accuracy: 0.9014 - false_negatives_4: 892.0000 - false_positives_4: 1079.0000\n",
      "Epoch 4: val_loss did not improve from 0.34964\n",
      "79/79 [==============================] - 18s 228ms/step - loss: 0.2737 - binary_accuracy: 0.9014 - false_negatives_4: 892.0000 - false_positives_4: 1079.0000 - val_loss: 0.3882 - val_binary_accuracy: 0.8470 - val_false_negatives_4: 278.0000 - val_false_positives_4: 487.0000\n",
      "Epoch 5/5\n",
      "79/79 [==============================] - ETA: 0s - loss: 0.2512 - binary_accuracy: 0.9107 - false_negatives_4: 817.0000 - false_positives_4: 969.0000\n",
      "Epoch 5: val_loss did not improve from 0.34964\n",
      "79/79 [==============================] - 17s 215ms/step - loss: 0.2512 - binary_accuracy: 0.9107 - false_negatives_4: 817.0000 - false_positives_4: 969.0000 - val_loss: 0.3570 - val_binary_accuracy: 0.8464 - val_false_negatives_4: 334.0000 - val_false_positives_4: 434.0000\n",
      "20/20 [==============================] - 2s 83ms/step\n",
      "----------------------------------------------------------------------------------------------------\n",
      "Number of zeros incorrectly classified: 417.0, Number of ones incorrectly classified: 334.0\n",
      "Sample ratio for positives: 0.4447403462050599, Sample ratio for negatives:0.5552596537949401\n",
      "Starting training with 24998 samples\n",
      "----------------------------------------------------------------------------------------------------\n",
      "Epoch 1/5\n",
      "70/98 [====================>.........] - ETA: 6s - loss: 0.3518 - binary_accuracy: 0.8628 - false_negatives_5: 1138.0000 - false_positives_5: 1320.0000"
     ]
    }
   ],
   "source": [
    "def train_active_learning_models(\n",
    "    train_dataset,\n",
    "    pool_negatives,\n",
    "    pool_positives,\n",
    "    val_dataset,\n",
    "    test_dataset,\n",
    "    num_iterations=3,\n",
    "    sampling_size=5000,\n",
    "):\n",
    "\n",
    "    # Creating lists for storing metrics\n",
    "    losses, val_losses, accuracies, val_accuracies = [], [], [], []\n",
    "\n",
    "    model = create_model()\n",
    "    # We will monitor the false positives and false negatives predicted by our model\n",
    "    # These will decide the subsequent sampling ratio for every Active Learning loop\n",
    "    model.compile(\n",
    "        loss=\"binary_crossentropy\",\n",
    "        optimizer=\"rmsprop\",\n",
    "        metrics=[\n",
    "            keras.metrics.BinaryAccuracy(),\n",
    "            keras.metrics.FalseNegatives(),\n",
    "            keras.metrics.FalsePositives(),\n",
    "        ],\n",
    "    )\n",
    "\n",
    "    # Defining checkpoints.\n",
    "    # The checkpoint callback is reused throughout the training since it only saves the best overall model.\n",
    "    checkpoint = keras.callbacks.ModelCheckpoint(\n",
    "        \"AL_Model.h5\", save_best_only=True, verbose=1\n",
    "    )\n",
    "    # Here, patience is set to 4. This can be set higher if desired.\n",
    "    early_stopping = keras.callbacks.EarlyStopping(patience=4, verbose=1)\n",
    "\n",
    "    print(f\"Starting to train with {len(train_dataset)} samples\")\n",
    "    # Initial fit with a small subset of the training set\n",
    "    history = model.fit(\n",
    "        train_dataset.cache().shuffle(20000).batch(256),\n",
    "        # -epochs=20,\n",
    "        epochs=5,\n",
    "        validation_data=val_dataset,\n",
    "        callbacks=[checkpoint, early_stopping],\n",
    "    )\n",
    "\n",
    "    # Appending history\n",
    "    losses, val_losses, accuracies, val_accuracies = append_history(\n",
    "        losses, val_losses, accuracies, val_accuracies, history\n",
    "    )\n",
    "\n",
    "    for iteration in range(num_iterations):\n",
    "        # Getting predictions from previously trained model\n",
    "        predictions = model.predict(test_dataset)\n",
    "\n",
    "        # Generating labels from the output probabilities\n",
    "        rounded = tf.where(tf.greater(predictions, 0.5), 1, 0)\n",
    "\n",
    "        # Evaluating the number of zeros and ones incorrrectly classified\n",
    "        _, _, false_negatives, false_positives = model.evaluate(test_dataset, verbose=0)\n",
    "\n",
    "        print(\"-\" * 100)\n",
    "        print(\n",
    "            f\"Number of zeros incorrectly classified: {false_negatives}, Number of ones incorrectly classified: {false_positives}\"\n",
    "        )\n",
    "\n",
    "        # This technique of Active Learning demonstrates ratio based sampling where\n",
    "        # Number of ones/zeros to sample = Number of ones/zeros incorrectly classified / Total incorrectly classified\n",
    "        if false_negatives != 0 and false_positives != 0:\n",
    "            total = false_negatives + false_positives\n",
    "            sample_ratio_ones, sample_ratio_zeros = (\n",
    "                false_positives / total,\n",
    "                false_negatives / total,\n",
    "            )\n",
    "        # In the case where all samples are correctly predicted, we can sample both classes equally\n",
    "        else:\n",
    "            sample_ratio_ones, sample_ratio_zeros = 0.5, 0.5\n",
    "\n",
    "        print(\n",
    "            f\"Sample ratio for positives: {sample_ratio_ones}, Sample ratio for negatives:{sample_ratio_zeros}\"\n",
    "        )\n",
    "\n",
    "        # Sample the required number of ones and zeros\n",
    "        sampled_dataset = pool_negatives.take(\n",
    "            int(sample_ratio_zeros * sampling_size)\n",
    "        ).concatenate(pool_positives.take(int(sample_ratio_ones * sampling_size)))\n",
    "\n",
    "        # Skip the sampled data points to avoid repetition of sample\n",
    "        pool_negatives = pool_negatives.skip(int(sample_ratio_zeros * sampling_size))\n",
    "        pool_positives = pool_positives.skip(int(sample_ratio_ones * sampling_size))\n",
    "\n",
    "        # Concatenating the train_dataset with the sampled_dataset\n",
    "        train_dataset = train_dataset.concatenate(sampled_dataset).prefetch(\n",
    "            tf.data.AUTOTUNE\n",
    "        )\n",
    "\n",
    "        print(f\"Starting training with {len(train_dataset)} samples\")\n",
    "        print(\"-\" * 100)\n",
    "\n",
    "        # We recompile the model to reset the optimizer states and retrain the model\n",
    "        model.compile(\n",
    "            loss=\"binary_crossentropy\",\n",
    "            optimizer=\"rmsprop\",\n",
    "            metrics=[\n",
    "                keras.metrics.BinaryAccuracy(),\n",
    "                keras.metrics.FalseNegatives(),\n",
    "                keras.metrics.FalsePositives(),\n",
    "            ],\n",
    "        )\n",
    "        history = model.fit(\n",
    "            train_dataset.cache().shuffle(20000).batch(256),\n",
    "            validation_data=val_dataset,\n",
    "            # epochs=20,\n",
    "            epochs=5,\n",
    "            callbacks=[\n",
    "                checkpoint,\n",
    "                keras.callbacks.EarlyStopping(patience=4, verbose=1),\n",
    "            ],\n",
    "        )\n",
    "\n",
    "        # Appending the history\n",
    "        losses, val_losses, accuracies, val_accuracies = append_history(\n",
    "            losses, val_losses, accuracies, val_accuracies, history\n",
    "        )\n",
    "\n",
    "        # Loading the best model from this training loop\n",
    "        model = keras.models.load_model(\"AL_Model.h5\")\n",
    "\n",
    "    # Plotting the overall history and evaluating the final model\n",
    "    plot_history(losses, val_losses, accuracies, val_accuracies)\n",
    "    print(\"-\" * 100)\n",
    "    print(\n",
    "        \"Test set evaluation: \",\n",
    "        model.evaluate(test_dataset, verbose=0, return_dict=True),\n",
    "    )\n",
    "    print(\"-\" * 100)\n",
    "\n",
    "    return model\n",
    "\n",
    "\n",
    "active_learning_model = train_active_learning_models(\n",
    "    train_dataset, pool_negatives, pool_positives, val_dataset, test_dataset\n",
    ")"
   ]
  },
  {
   "cell_type": "markdown",
   "metadata": {
    "colab_type": "text"
   },
   "source": [
    "## Conclusion\n",
    "\n",
    "Active Learning is a growing area of research. This example demonstrates the cost-efficiency\n",
    "benefits of using Active Learning, as it eliminates the need to annotate large amounts of\n",
    "data, saving resources.\n",
    "\n",
    "The following are some noteworthy observations from this example:\n",
    "\n",
    "1. We only require 30,000 samples to reach the same (if not better) scores as the model\n",
    "trained on the full datatset. This means that in a real life setting, we save the effort\n",
    "required for annotating 10,000 images!\n",
    "2. The number of false negatives and false positives are well balanced at the end of the\n",
    "training as compared to the skewed ratio obtained from the full training. This makes the\n",
    "model slightly more useful in real life scenarios where both the labels hold equal\n",
    "importance.\n",
    "\n",
    "For further reading about the types of sampling ratios, training techniques or available\n",
    "open source libraries/implementations, you can refer to the resources below:\n",
    "\n",
    "1. [Active Learning Literature Survey](http://burrsettles.com/pub/settles.activelearning.pdf) (Burr Settles, 2010).\n",
    "2. [modAL](https://github.com/modAL-python/modAL): A Modular Active Learning framework.\n",
    "3. Google's unofficial [Active Learning playground](https://github.com/google/active-learning)."
   ]
  }
 ],
 "metadata": {
  "colab": {
   "collapsed_sections": [],
   "name": "active_learning_review_classification",
   "private_outputs": false,
   "provenance": [],
   "toc_visible": true
  },
  "kernelspec": {
   "display_name": "Python 3 (ipykernel)",
   "language": "python",
   "name": "python3"
  },
  "language_info": {
   "codemirror_mode": {
    "name": "ipython",
    "version": 3
   },
   "file_extension": ".py",
   "mimetype": "text/x-python",
   "name": "python",
   "nbconvert_exporter": "python",
   "pygments_lexer": "ipython3",
   "version": "3.9.12"
  }
 },
 "nbformat": 4,
 "nbformat_minor": 1
}

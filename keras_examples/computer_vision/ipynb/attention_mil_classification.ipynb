{
 "cells": [
  {
   "cell_type": "markdown",
   "metadata": {
    "colab_type": "text"
   },
   "source": [
    "# Classification using Attention-based Deep Multiple Instance Learning (MIL).\n",
    "\n",
    "**Author:** [Mohamad Jaber](https://www.linkedin.com/in/mohamadjaber1/)<br>\n",
    "**Date created:** 2021/08/16<br>\n",
    "**Last modified:** 2021/11/25<br>\n",
    "**Description:** MIL approach to classify bags of instances and get their individual instance score."
   ]
  },
  {
   "cell_type": "markdown",
   "metadata": {
    "colab_type": "text"
   },
   "source": [
    "## Introduction\n",
    "\n",
    "### What is Multiple Instance Learning (MIL)?\n",
    "\n",
    "Usually, with supervised learning algorithms, the learner receives labels for a set of\n",
    "instances. In the case of MIL, the learner receives labels for a set of bags, each of which\n",
    "contains a set of instances. The bag is labeled positive if it contains at least\n",
    "one positive instance, and negative if it does not contain any.\n",
    "\n",
    "### Motivation\n",
    "\n",
    "It is often assumed in image classification tasks that each image clearly represents a\n",
    "class label. In medical imaging (e.g. computational pathology, etc.) an *entire image*\n",
    "is represented by a single class label (cancerous/non-cancerous) or a region of interest\n",
    "could be given. However, one will be interested in knowing which patterns in the image\n",
    "is actually causing it to belong to that class. In this context, the image(s) will be\n",
    "divided and the subimages will form the bag of instances.\n",
    "\n",
    "Therefore, the goals are to:\n",
    "\n",
    "1. Learn a model to predict a class label for a bag of instances.\n",
    "2. Find out which instances within the bag caused a position class label\n",
    "prediction.\n",
    "\n",
    "### Implementation\n",
    "\n",
    "The following steps describe how the model works:\n",
    "\n",
    "1. The feature extractor layers extract feature embeddings.\n",
    "2. The embeddings are fed into the MIL attention layer to get\n",
    "the attention scores. The layer is designed as permutation-invariant.\n",
    "3. Input features and their corresponding attention scores are multiplied together.\n",
    "4. The resulting output is passed to a softmax function for classification.\n",
    "\n",
    "### References\n",
    "\n",
    "- [Attention-based Deep Multiple Instance Learning](https://arxiv.org/abs/1802.04712).\n",
    "- Some of the attention operator code implementation was inspired from https://github.com/utayao/Atten_Deep_MIL.\n",
    "- Imbalanced data [tutorial](https://www.tensorflow.org/tutorials/structured_data/imbalanced_data)\n",
    "by TensorFlow."
   ]
  },
  {
   "cell_type": "markdown",
   "metadata": {
    "colab_type": "text"
   },
   "source": [
    "## Setup"
   ]
  },
  {
   "cell_type": "code",
   "execution_count": 1,
   "metadata": {
    "colab_type": "code"
   },
   "outputs": [
    {
     "name": "stderr",
     "output_type": "stream",
     "text": [
      "2022-11-22 13:18:08.492815: I tensorflow/core/platform/cpu_feature_guard.cc:193] This TensorFlow binary is optimized with oneAPI Deep Neural Network Library (oneDNN) to use the following CPU instructions in performance-critical operations:  SSE4.1 SSE4.2 AVX AVX2 FMA\n",
      "To enable them in other operations, rebuild TensorFlow with the appropriate compiler flags.\n"
     ]
    }
   ],
   "source": [
    "import numpy as np\n",
    "import tensorflow as tf\n",
    "from tensorflow import keras\n",
    "from tensorflow.keras import layers\n",
    "from tqdm import tqdm\n",
    "from matplotlib import pyplot as plt\n",
    "\n",
    "plt.style.use(\"ggplot\")"
   ]
  },
  {
   "cell_type": "markdown",
   "metadata": {
    "colab_type": "text"
   },
   "source": [
    "## Create dataset\n",
    "\n",
    "We will create a set of bags and assign their labels according to their contents.\n",
    "If at least one positive instance\n",
    "is available in a bag, the bag is considered as a positive bag. If it does not contain any\n",
    "positive instance, the bag will be considered as negative.\n",
    "\n",
    "### Configuration parameters\n",
    "\n",
    "- `POSITIVE_CLASS`: The desired class to be kept in the positive bag.\n",
    "- `BAG_COUNT`: The number of training bags.\n",
    "- `VAL_BAG_COUNT`: The number of validation bags.\n",
    "- `BAG_SIZE`: The number of instances in a bag.\n",
    "- `PLOT_SIZE`: The number of bags to plot.\n",
    "- `ENSEMBLE_AVG_COUNT`: The number of models to create and average together. (Optional:\n",
    "often results in better performance - set to 1 for single model)"
   ]
  },
  {
   "cell_type": "code",
   "execution_count": 2,
   "metadata": {
    "colab_type": "code"
   },
   "outputs": [],
   "source": [
    "POSITIVE_CLASS = 1\n",
    "BAG_COUNT = 1000\n",
    "VAL_BAG_COUNT = 300\n",
    "BAG_SIZE = 3\n",
    "PLOT_SIZE = 3\n",
    "ENSEMBLE_AVG_COUNT = 1"
   ]
  },
  {
   "cell_type": "markdown",
   "metadata": {
    "colab_type": "text"
   },
   "source": [
    "### Prepare bags\n",
    "\n",
    "Since the attention operator is a permutation-invariant operator, an instance with a\n",
    "positive class label is randomly placed among the instances in the positive bag."
   ]
  },
  {
   "cell_type": "code",
   "execution_count": 3,
   "metadata": {
    "colab_type": "code"
   },
   "outputs": [
    {
     "name": "stdout",
     "output_type": "stream",
     "text": [
      "Positive bags: 279\n",
      "Negative bags: 721\n",
      "Positive bags: 76\n",
      "Negative bags: 224\n"
     ]
    }
   ],
   "source": [
    "def create_bags(input_data, input_labels, positive_class, bag_count, instance_count):\n",
    "\n",
    "    # Set up bags.\n",
    "    bags = []\n",
    "    bag_labels = []\n",
    "\n",
    "    # Normalize input data.\n",
    "    input_data = np.divide(input_data, 255.0)\n",
    "\n",
    "    # Count positive samples.\n",
    "    count = 0\n",
    "\n",
    "    for _ in range(bag_count):\n",
    "\n",
    "        # Pick a fixed size random subset of samples.\n",
    "        index = np.random.choice(input_data.shape[0], instance_count, replace=False)\n",
    "        instances_data = input_data[index]\n",
    "        instances_labels = input_labels[index]\n",
    "\n",
    "        # By default, all bags are labeled as 0.\n",
    "        bag_label = 0\n",
    "\n",
    "        # Check if there is at least a positive class in the bag.\n",
    "        if positive_class in instances_labels:\n",
    "\n",
    "            # Positive bag will be labeled as 1.\n",
    "            bag_label = 1\n",
    "            count += 1\n",
    "\n",
    "        bags.append(instances_data)\n",
    "        bag_labels.append(np.array([bag_label]))\n",
    "\n",
    "    print(f\"Positive bags: {count}\")\n",
    "    print(f\"Negative bags: {bag_count - count}\")\n",
    "\n",
    "    return (list(np.swapaxes(bags, 0, 1)), np.array(bag_labels))\n",
    "\n",
    "\n",
    "# Load the MNIST dataset.\n",
    "(x_train, y_train), (x_val, y_val) = keras.datasets.mnist.load_data()\n",
    "\n",
    "# Create training data.\n",
    "train_data, train_labels = create_bags(\n",
    "    x_train, y_train, POSITIVE_CLASS, BAG_COUNT, BAG_SIZE\n",
    ")\n",
    "\n",
    "# Create validation data.\n",
    "val_data, val_labels = create_bags(\n",
    "    x_val, y_val, POSITIVE_CLASS, VAL_BAG_COUNT, BAG_SIZE\n",
    ")"
   ]
  },
  {
   "cell_type": "markdown",
   "metadata": {
    "colab_type": "text"
   },
   "source": [
    "## Create the model\n",
    "\n",
    "We will now build the attention layer, prepare some utilities, then build and train the\n",
    "entire model.\n",
    "\n",
    "### Attention operator implementation\n",
    "\n",
    "The output size of this layer is decided by the size of a single bag.\n",
    "\n",
    "The attention mechanism uses a weighted average of instances in a bag, in which the sum\n",
    "of the weights must equal to 1 (invariant of the bag size).\n",
    "\n",
    "The weight matrices (parameters) are **w** and **v**. To include positive and negative\n",
    "values, hyperbolic tangent element-wise non-linearity is utilized.\n",
    "\n",
    "A **Gated attention mechanism** can be used to deal with complex relations. Another weight\n",
    "matrix, **u**, is added to the computation.\n",
    "A sigmoid non-linearity is used to overcome approximately linear behavior for *x* ∈ [−1, 1]\n",
    "by hyperbolic tangent non-linearity."
   ]
  },
  {
   "cell_type": "code",
   "execution_count": 4,
   "metadata": {
    "colab_type": "code"
   },
   "outputs": [],
   "source": [
    "class MILAttentionLayer(layers.Layer):\n",
    "    \"\"\"Implementation of the attention-based Deep MIL layer.\n",
    "\n",
    "    Args:\n",
    "      weight_params_dim: Positive Integer. Dimension of the weight matrix.\n",
    "      kernel_initializer: Initializer for the `kernel` matrix.\n",
    "      kernel_regularizer: Regularizer function applied to the `kernel` matrix.\n",
    "      use_gated: Boolean, whether or not to use the gated mechanism.\n",
    "\n",
    "    Returns:\n",
    "      List of 2D tensors with BAG_SIZE length.\n",
    "      The tensors are the attention scores after softmax with shape `(batch_size, 1)`.\n",
    "    \"\"\"\n",
    "\n",
    "    def __init__(\n",
    "        self,\n",
    "        weight_params_dim,\n",
    "        kernel_initializer=\"glorot_uniform\",\n",
    "        kernel_regularizer=None,\n",
    "        use_gated=False,\n",
    "        **kwargs,\n",
    "    ):\n",
    "\n",
    "        super().__init__(**kwargs)\n",
    "\n",
    "        self.weight_params_dim = weight_params_dim\n",
    "        self.use_gated = use_gated\n",
    "\n",
    "        self.kernel_initializer = keras.initializers.get(kernel_initializer)\n",
    "        self.kernel_regularizer = keras.regularizers.get(kernel_regularizer)\n",
    "\n",
    "        self.v_init = self.kernel_initializer\n",
    "        self.w_init = self.kernel_initializer\n",
    "        self.u_init = self.kernel_initializer\n",
    "\n",
    "        self.v_regularizer = self.kernel_regularizer\n",
    "        self.w_regularizer = self.kernel_regularizer\n",
    "        self.u_regularizer = self.kernel_regularizer\n",
    "\n",
    "    def build(self, input_shape):\n",
    "\n",
    "        # Input shape.\n",
    "        # List of 2D tensors with shape: (batch_size, input_dim).\n",
    "        input_dim = input_shape[0][1]\n",
    "\n",
    "        self.v_weight_params = self.add_weight(\n",
    "            shape=(input_dim, self.weight_params_dim),\n",
    "            initializer=self.v_init,\n",
    "            name=\"v\",\n",
    "            regularizer=self.v_regularizer,\n",
    "            trainable=True,\n",
    "        )\n",
    "\n",
    "        self.w_weight_params = self.add_weight(\n",
    "            shape=(self.weight_params_dim, 1),\n",
    "            initializer=self.w_init,\n",
    "            name=\"w\",\n",
    "            regularizer=self.w_regularizer,\n",
    "            trainable=True,\n",
    "        )\n",
    "\n",
    "        if self.use_gated:\n",
    "            self.u_weight_params = self.add_weight(\n",
    "                shape=(input_dim, self.weight_params_dim),\n",
    "                initializer=self.u_init,\n",
    "                name=\"u\",\n",
    "                regularizer=self.u_regularizer,\n",
    "                trainable=True,\n",
    "            )\n",
    "        else:\n",
    "            self.u_weight_params = None\n",
    "\n",
    "        self.input_built = True\n",
    "\n",
    "    def call(self, inputs):\n",
    "\n",
    "        # Assigning variables from the number of inputs.\n",
    "        instances = [self.compute_attention_scores(instance) for instance in inputs]\n",
    "\n",
    "        # Apply softmax over instances such that the output summation is equal to 1.\n",
    "        alpha = tf.math.softmax(instances, axis=0)\n",
    "\n",
    "        return [alpha[i] for i in range(alpha.shape[0])]\n",
    "\n",
    "    def compute_attention_scores(self, instance):\n",
    "\n",
    "        # Reserve in-case \"gated mechanism\" used.\n",
    "        original_instance = instance\n",
    "\n",
    "        # tanh(v*h_k^T)\n",
    "        instance = tf.math.tanh(tf.tensordot(instance, self.v_weight_params, axes=1))\n",
    "\n",
    "        # for learning non-linear relations efficiently.\n",
    "        if self.use_gated:\n",
    "\n",
    "            instance = instance * tf.math.sigmoid(\n",
    "                tf.tensordot(original_instance, self.u_weight_params, axes=1)\n",
    "            )\n",
    "\n",
    "        # w^T*(tanh(v*h_k^T)) / w^T*(tanh(v*h_k^T)*sigmoid(u*h_k^T))\n",
    "        return tf.tensordot(instance, self.w_weight_params, axes=1)\n"
   ]
  },
  {
   "cell_type": "markdown",
   "metadata": {
    "colab_type": "text"
   },
   "source": [
    "## Visualizer tool\n",
    "\n",
    "Plot the number of bags (given by `PLOT_SIZE`) with respect to the class.\n",
    "\n",
    "Moreover, if activated, the class label prediction with its associated instance score\n",
    "for each bag (after the model has been trained) can be seen."
   ]
  },
  {
   "cell_type": "code",
   "execution_count": 5,
   "metadata": {
    "colab_type": "code"
   },
   "outputs": [
    {
     "name": "stdout",
     "output_type": "stream",
     "text": [
      "The bag class label is positive\n",
      "Bag number: 3\n"
     ]
    },
    {
     "data": {
      "image/png": "[encoded data removed]",
      "text/plain": [
       "<Figure size 800x800 with 3 Axes>"
      ]
     },
     "metadata": {},
     "output_type": "display_data"
    },
    {
     "name": "stdout",
     "output_type": "stream",
     "text": [
      "Bag number: 5\n"
     ]
    },
    {
     "data": {
      "image/png": "[encoded data removed]",
      "text/plain": [
       "<Figure size 800x800 with 3 Axes>"
      ]
     },
     "metadata": {},
     "output_type": "display_data"
    },
    {
     "name": "stdout",
     "output_type": "stream",
     "text": [
      "Bag number: 7\n"
     ]
    },
    {
     "data": {
      "image/png": "[encoded data removed]",
      "text/plain": [
       "<Figure size 800x800 with 3 Axes>"
      ]
     },
     "metadata": {},
     "output_type": "display_data"
    },
    {
     "name": "stdout",
     "output_type": "stream",
     "text": [
      "The bag class label is negative\n",
      "Bag number: 0\n"
     ]
    },
    {
     "data": {
      "image/png": "[encoded data removed]",
      "text/plain": [
       "<Figure size 800x800 with 3 Axes>"
      ]
     },
     "metadata": {},
     "output_type": "display_data"
    },
    {
     "name": "stdout",
     "output_type": "stream",
     "text": [
      "Bag number: 1\n"
     ]
    },
    {
     "data": {
      "image/png": "[encoded data removed]",
      "text/plain": [
       "<Figure size 800x800 with 3 Axes>"
      ]
     },
     "metadata": {},
     "output_type": "display_data"
    },
    {
     "name": "stdout",
     "output_type": "stream",
     "text": [
      "Bag number: 2\n"
     ]
    },
    {
     "data": {
      "image/png": "[encoded data removed]",
      "text/plain": [
       "<Figure size 800x800 with 3 Axes>"
      ]
     },
     "metadata": {},
     "output_type": "display_data"
    }
   ],
   "source": [
    "def plot(data, labels, bag_class, predictions=None, attention_weights=None):\n",
    "\n",
    "    \"\"\"\"Utility for plotting bags and attention weights.\n",
    "\n",
    "    Args:\n",
    "      data: Input data that contains the bags of instances.\n",
    "      labels: The associated bag labels of the input data.\n",
    "      bag_class: String name of the desired bag class.\n",
    "        The options are: \"positive\" or \"negative\".\n",
    "      predictions: Class labels model predictions.\n",
    "      If you don't specify anything, ground truth labels will be used.\n",
    "      attention_weights: Attention weights for each instance within the input data.\n",
    "      If you don't specify anything, the values won't be displayed.\n",
    "    \"\"\"\n",
    "\n",
    "    labels = np.array(labels).reshape(-1)\n",
    "\n",
    "    if bag_class == \"positive\":\n",
    "        if predictions is not None:\n",
    "            labels = np.where(predictions.argmax(1) == 1)[0]\n",
    "            bags = np.array(data)[:, labels[0:PLOT_SIZE]]\n",
    "\n",
    "        else:\n",
    "            labels = np.where(labels == 1)[0]\n",
    "            bags = np.array(data)[:, labels[0:PLOT_SIZE]]\n",
    "\n",
    "    elif bag_class == \"negative\":\n",
    "        if predictions is not None:\n",
    "            labels = np.where(predictions.argmax(1) == 0)[0]\n",
    "            bags = np.array(data)[:, labels[0:PLOT_SIZE]]\n",
    "        else:\n",
    "            labels = np.where(labels == 0)[0]\n",
    "            bags = np.array(data)[:, labels[0:PLOT_SIZE]]\n",
    "\n",
    "    else:\n",
    "        print(f\"There is no class {bag_class}\")\n",
    "        return\n",
    "\n",
    "    print(f\"The bag class label is {bag_class}\")\n",
    "    for i in range(PLOT_SIZE):\n",
    "        figure = plt.figure(figsize=(8, 8))\n",
    "        print(f\"Bag number: {labels[i]}\")\n",
    "        for j in range(BAG_SIZE):\n",
    "            image = bags[j][i]\n",
    "            figure.add_subplot(1, BAG_SIZE, j + 1)\n",
    "            plt.grid(False)\n",
    "            if attention_weights is not None:\n",
    "                plt.title(np.around(attention_weights[labels[i]][j], 2))\n",
    "            plt.imshow(image)\n",
    "        plt.show()\n",
    "\n",
    "\n",
    "# Plot some of validation data bags per class.\n",
    "plot(val_data, val_labels, \"positive\")\n",
    "plot(val_data, val_labels, \"negative\")"
   ]
  },
  {
   "cell_type": "markdown",
   "metadata": {
    "colab_type": "text"
   },
   "source": [
    "## Create model\n",
    "\n",
    "First we will create some embeddings per instance, invoke the attention operator and then\n",
    "use the softmax function to output the class probabilities."
   ]
  },
  {
   "cell_type": "code",
   "execution_count": 6,
   "metadata": {
    "colab_type": "code"
   },
   "outputs": [],
   "source": [
    "def create_model(instance_shape):\n",
    "\n",
    "    # Extract features from inputs.\n",
    "    inputs, embeddings = [], []\n",
    "    shared_dense_layer_1 = layers.Dense(128, activation=\"relu\")\n",
    "    shared_dense_layer_2 = layers.Dense(64, activation=\"relu\")\n",
    "    for _ in range(BAG_SIZE):\n",
    "        inp = layers.Input(instance_shape)\n",
    "        flatten = layers.Flatten()(inp)\n",
    "        dense_1 = shared_dense_layer_1(flatten)\n",
    "        dense_2 = shared_dense_layer_2(dense_1)\n",
    "        inputs.append(inp)\n",
    "        embeddings.append(dense_2)\n",
    "\n",
    "    # Invoke the attention layer.\n",
    "    alpha = MILAttentionLayer(\n",
    "        weight_params_dim=256,\n",
    "        kernel_regularizer=keras.regularizers.l2(0.01),\n",
    "        use_gated=True,\n",
    "        name=\"alpha\",\n",
    "    )(embeddings)\n",
    "\n",
    "    # Multiply attention weights with the input layers.\n",
    "    multiply_layers = [\n",
    "        layers.multiply([alpha[i], embeddings[i]]) for i in range(len(alpha))\n",
    "    ]\n",
    "\n",
    "    # Concatenate layers.\n",
    "    concat = layers.concatenate(multiply_layers, axis=1)\n",
    "\n",
    "    # Classification output node.\n",
    "    output = layers.Dense(2, activation=\"softmax\")(concat)\n",
    "\n",
    "    return keras.Model(inputs, output)\n"
   ]
  },
  {
   "cell_type": "markdown",
   "metadata": {
    "colab_type": "text"
   },
   "source": [
    "## Class weights\n",
    "\n",
    "Since this kind of problem could simply turn into imbalanced data classification problem,\n",
    "class weighting should be considered.\n",
    "\n",
    "Let's say there are 1000 bags. There often could be cases were ~90 % of the bags do not\n",
    "contain any positive label and ~10 % do.\n",
    "Such data can be referred to as **Imbalanced data**.\n",
    "\n",
    "Using class weights, the model will tend to give a higher weight to the rare class."
   ]
  },
  {
   "cell_type": "code",
   "execution_count": 7,
   "metadata": {
    "colab_type": "code"
   },
   "outputs": [],
   "source": [
    "def compute_class_weights(labels):\n",
    "\n",
    "    # Count number of postive and negative bags.\n",
    "    negative_count = len(np.where(labels == 0)[0])\n",
    "    positive_count = len(np.where(labels == 1)[0])\n",
    "    total_count = negative_count + positive_count\n",
    "\n",
    "    # Build class weight dictionary.\n",
    "    return {\n",
    "        0: (1 / negative_count) * (total_count / 2),\n",
    "        1: (1 / positive_count) * (total_count / 2),\n",
    "    }"
   ]
  },
  {
   "cell_type": "markdown",
   "metadata": {
    "colab_type": "text"
   },
   "source": [
    "## Build and train model\n",
    "\n",
    "The model is built and trained in this section."
   ]
  },
  {
   "cell_type": "code",
   "execution_count": 8,
   "metadata": {
    "colab_type": "code"
   },
   "outputs": [
    {
     "name": "stderr",
     "output_type": "stream",
     "text": [
      "2022-11-22 13:18:56.745353: I tensorflow/core/platform/cpu_feature_guard.cc:193] This TensorFlow binary is optimized with oneAPI Deep Neural Network Library (oneDNN) to use the following CPU instructions in performance-critical operations:  SSE4.1 SSE4.2 AVX AVX2 FMA\n",
      "To enable them in other operations, rebuild TensorFlow with the appropriate compiler flags.\n",
      "2022-11-22 13:18:56.745905: I tensorflow/core/common_runtime/process_util.cc:146] Creating new thread pool with default inter op setting: 2. Tune using inter_op_parallelism_threads for best performance.\n",
      "/home/mike/miniconda3/lib/python3.9/site-packages/keras/initializers/initializers_v2.py:120: UserWarning: The initializer GlorotUniform is unseeded and being called multiple times, which will return identical values  each time (even if the initializer is unseeded). Please update your code to provide a seed to the initializer, or avoid using the same initalizer instance more than once.\n",
      "  warnings.warn(\n"
     ]
    },
    {
     "name": "stdout",
     "output_type": "stream",
     "text": [
      "Model: \"model\"\n",
      "__________________________________________________________________________________________________\n",
      " Layer (type)                   Output Shape         Param #     Connected to                     \n",
      "==================================================================================================\n",
      " input_1 (InputLayer)           [(None, 28, 28)]     0           []                               \n",
      "                                                                                                  \n",
      " input_2 (InputLayer)           [(None, 28, 28)]     0           []                               \n",
      "                                                                                                  \n",
      " input_3 (InputLayer)           [(None, 28, 28)]     0           []                               \n",
      "                                                                                                  \n",
      " flatten (Flatten)              (None, 784)          0           ['input_1[0][0]']                \n",
      "                                                                                                  \n",
      " flatten_1 (Flatten)            (None, 784)          0           ['input_2[0][0]']                \n",
      "                                                                                                  \n",
      " flatten_2 (Flatten)            (None, 784)          0           ['input_3[0][0]']                \n",
      "                                                                                                  \n",
      " dense (Dense)                  (None, 128)          100480      ['flatten[0][0]',                \n",
      "                                                                  'flatten_1[0][0]',              \n",
      "                                                                  'flatten_2[0][0]']              \n",
      "                                                                                                  \n",
      " dense_1 (Dense)                (None, 64)           8256        ['dense[0][0]',                  \n",
      "                                                                  'dense[1][0]',                  \n",
      "                                                                  'dense[2][0]']                  \n",
      "                                                                                                  \n",
      " alpha (MILAttentionLayer)      [(None, 1),          33024       ['dense_1[0][0]',                \n",
      "                                 (None, 1),                       'dense_1[1][0]',                \n",
      "                                 (None, 1)]                       'dense_1[2][0]']                \n",
      "                                                                                                  \n",
      " multiply (Multiply)            (None, 64)           0           ['alpha[0][0]',                  \n",
      "                                                                  'dense_1[0][0]']                \n",
      "                                                                                                  \n",
      " multiply_1 (Multiply)          (None, 64)           0           ['alpha[0][1]',                  \n",
      "                                                                  'dense_1[1][0]']                \n",
      "                                                                                                  \n",
      " multiply_2 (Multiply)          (None, 64)           0           ['alpha[0][2]',                  \n",
      "                                                                  'dense_1[2][0]']                \n",
      "                                                                                                  \n",
      " concatenate (Concatenate)      (None, 192)          0           ['multiply[0][0]',               \n",
      "                                                                  'multiply_1[0][0]',             \n",
      "                                                                  'multiply_2[0][0]']             \n",
      "                                                                                                  \n",
      " dense_2 (Dense)                (None, 2)            386         ['concatenate[0][0]']            \n",
      "                                                                                                  \n",
      "==================================================================================================\n",
      "Total params: 142,146\n",
      "Trainable params: 142,146\n",
      "Non-trainable params: 0\n",
      "__________________________________________________________________________________________________\n",
      "None\n"
     ]
    },
    {
     "name": "stderr",
     "output_type": "stream",
     "text": [
      "100%|█████████████████████████████████████████████| 1/1 [00:29<00:00, 29.68s/it]\n"
     ]
    }
   ],
   "source": [
    "def train(train_data, train_labels, val_data, val_labels, model):\n",
    "\n",
    "    # Train model.\n",
    "    # Prepare callbacks.\n",
    "    # Path where to save best weights.\n",
    "\n",
    "    # Take the file name from the wrapper.\n",
    "    file_path = \"/tmp/best_model_weights.h5\"\n",
    "\n",
    "    # Initialize model checkpoint callback.\n",
    "    model_checkpoint = keras.callbacks.ModelCheckpoint(\n",
    "        file_path,\n",
    "        monitor=\"val_loss\",\n",
    "        verbose=0,\n",
    "        mode=\"min\",\n",
    "        save_best_only=True,\n",
    "        save_weights_only=True,\n",
    "    )\n",
    "\n",
    "    # Initialize early stopping callback.\n",
    "    # The model performance is monitored across the validation data and stops training\n",
    "    # when the generalization error cease to decrease.\n",
    "    early_stopping = keras.callbacks.EarlyStopping(\n",
    "        monitor=\"val_loss\", patience=10, mode=\"min\"\n",
    "    )\n",
    "\n",
    "    # Compile model.\n",
    "    model.compile(\n",
    "        optimizer=\"adam\", loss=\"sparse_categorical_crossentropy\", metrics=[\"accuracy\"],\n",
    "    )\n",
    "\n",
    "    # Fit model.\n",
    "    model.fit(\n",
    "        train_data,\n",
    "        train_labels,\n",
    "        validation_data=(val_data, val_labels),\n",
    "        epochs=20,\n",
    "        class_weight=compute_class_weights(train_labels),\n",
    "        batch_size=1,\n",
    "        callbacks=[early_stopping, model_checkpoint],\n",
    "        verbose=0,\n",
    "    )\n",
    "\n",
    "    # Load best weights.\n",
    "    model.load_weights(file_path)\n",
    "\n",
    "    return model\n",
    "\n",
    "\n",
    "# Building model(s).\n",
    "instance_shape = train_data[0][0].shape\n",
    "models = [create_model(instance_shape) for _ in range(ENSEMBLE_AVG_COUNT)]\n",
    "\n",
    "# Show single model architecture.\n",
    "print(models[0].summary())\n",
    "\n",
    "# Training model(s).\n",
    "trained_models = [\n",
    "    train(train_data, train_labels, val_data, val_labels, model)\n",
    "    for model in tqdm(models)\n",
    "]"
   ]
  },
  {
   "cell_type": "markdown",
   "metadata": {
    "colab_type": "text"
   },
   "source": [
    "## Model evaluation\n",
    "\n",
    "The models are now ready for evaluation.\n",
    "With each model we also create an associated intermediate model to get the\n",
    "weights from the attention layer.\n",
    "\n",
    "We will compute a prediction for each of our `ENSEMBLE_AVG_COUNT` models, and\n",
    "average them together for our final prediction."
   ]
  },
  {
   "cell_type": "code",
   "execution_count": 9,
   "metadata": {
    "colab_type": "code"
   },
   "outputs": [
    {
     "name": "stdout",
     "output_type": "stream",
     "text": [
      "10/10 [==============================] - 0s 18ms/step\n",
      "10/10 [==============================] - 0s 8ms/step\n",
      "The average loss and accuracy are 0.11 and 97.67 % resp.\n",
      "The bag class label is positive\n",
      "Bag number: 3\n"
     ]
    },
    {
     "data": {
      "image/png": "[encoded data removed]",
      "text/plain": [
       "<Figure size 800x800 with 3 Axes>"
      ]
     },
     "metadata": {},
     "output_type": "display_data"
    },
    {
     "name": "stdout",
     "output_type": "stream",
     "text": [
      "Bag number: 5\n"
     ]
    },
    {
     "data": {
      "image/png": "[encoded data removed]",
      "text/plain": [
       "<Figure size 800x800 with 3 Axes>"
      ]
     },
     "metadata": {},
     "output_type": "display_data"
    },
    {
     "name": "stdout",
     "output_type": "stream",
     "text": [
      "Bag number: 7\n"
     ]
    },
    {
     "data": {
      "image/png": "[encoded data removed]",
      "text/plain": [
       "<Figure size 800x800 with 3 Axes>"
      ]
     },
     "metadata": {},
     "output_type": "display_data"
    },
    {
     "name": "stdout",
     "output_type": "stream",
     "text": [
      "The bag class label is negative\n",
      "Bag number: 0\n"
     ]
    },
    {
     "data": {
      "image/png": "[encoded data removed]",
      "text/plain": [
       "<Figure size 800x800 with 3 Axes>"
      ]
     },
     "metadata": {},
     "output_type": "display_data"
    },
    {
     "name": "stdout",
     "output_type": "stream",
     "text": [
      "Bag number: 1\n"
     ]
    },
    {
     "data": {
      "image/png": "[encoded data removed]",
      "text/plain": [
       "<Figure size 800x800 with 3 Axes>"
      ]
     },
     "metadata": {},
     "output_type": "display_data"
    },
    {
     "name": "stdout",
     "output_type": "stream",
     "text": [
      "Bag number: 2\n"
     ]
    },
    {
     "data": {
      "image/png": "[encoded data removed]",
      "text/plain": [
       "<Figure size 800x800 with 3 Axes>"
      ]
     },
     "metadata": {},
     "output_type": "display_data"
    }
   ],
   "source": [
    "def predict(data, labels, trained_models):\n",
    "\n",
    "    # Collect info per model.\n",
    "    models_predictions = []\n",
    "    models_attention_weights = []\n",
    "    models_losses = []\n",
    "    models_accuracies = []\n",
    "\n",
    "    for model in trained_models:\n",
    "\n",
    "        # Predict output classes on data.\n",
    "        predictions = model.predict(data)\n",
    "        models_predictions.append(predictions)\n",
    "\n",
    "        # Create intermediate model to get MIL attention layer weights.\n",
    "        intermediate_model = keras.Model(model.input, model.get_layer(\"alpha\").output)\n",
    "\n",
    "        # Predict MIL attention layer weights.\n",
    "        intermediate_predictions = intermediate_model.predict(data)\n",
    "\n",
    "        attention_weights = np.squeeze(np.swapaxes(intermediate_predictions, 1, 0))\n",
    "        models_attention_weights.append(attention_weights)\n",
    "\n",
    "        loss, accuracy = model.evaluate(data, labels, verbose=0)\n",
    "        models_losses.append(loss)\n",
    "        models_accuracies.append(accuracy)\n",
    "\n",
    "    print(\n",
    "        f\"The average loss and accuracy are {np.sum(models_losses, axis=0) / ENSEMBLE_AVG_COUNT:.2f}\"\n",
    "        f\" and {100 * np.sum(models_accuracies, axis=0) / ENSEMBLE_AVG_COUNT:.2f} % resp.\"\n",
    "    )\n",
    "\n",
    "    return (\n",
    "        np.sum(models_predictions, axis=0) / ENSEMBLE_AVG_COUNT,\n",
    "        np.sum(models_attention_weights, axis=0) / ENSEMBLE_AVG_COUNT,\n",
    "    )\n",
    "\n",
    "\n",
    "# Evaluate and predict classes and attention scores on validation data.\n",
    "class_predictions, attention_params = predict(val_data, val_labels, trained_models)\n",
    "\n",
    "# Plot some results from our validation data.\n",
    "plot(\n",
    "    val_data,\n",
    "    val_labels,\n",
    "    \"positive\",\n",
    "    predictions=class_predictions,\n",
    "    attention_weights=attention_params,\n",
    ")\n",
    "plot(\n",
    "    val_data,\n",
    "    val_labels,\n",
    "    \"negative\",\n",
    "    predictions=class_predictions,\n",
    "    attention_weights=attention_params,\n",
    ")"
   ]
  },
  {
   "cell_type": "markdown",
   "metadata": {
    "colab_type": "text"
   },
   "source": [
    "## Conclusion\n",
    "\n",
    "From the above plot, you can notice that the weights always sum to 1. In a\n",
    "positively predict bag, the instance which resulted in the positive labeling will have\n",
    "a substantially higher attention score than the rest of the bag. However, in a negatively\n",
    "predicted bag, there are two cases:\n",
    "\n",
    "* All instances will have approximately similar scores.\n",
    "* An instance will have relatively higher score (but not as high as of a positive instance).\n",
    "This is because the feature space of this instance is close to that of the positive instance.\n",
    "\n",
    "## Remarks\n",
    "\n",
    "- If the model is overfit, the weights will be equally distributed for all bags. Hence,\n",
    "the regularization techniques are necessary.\n",
    "- In the paper, the bag sizes can differ from one bag to another. For simplicity, the\n",
    "bag sizes are fixed here.\n",
    "- In order not to rely on the random initial weights of a single model, averaging ensemble\n",
    "methods should be considered.\n",
    "\n",
    "Example available on HuggingFace.\n",
    "\n",
    "| Trained Model | Demo |\n",
    "| :--: | :--: |\n",
    "| [![Generic badge](https://img.shields.io/badge/🤗%20Model-Attention%20MIL-black.svg)](https://huggingface.co/keras-io/attention_mil) | [![Generic badge](https://img.shields.io/badge/🤗%20Spaces-Attention%20MIL-black.svg)](https://huggingface.co/spaces/keras-io/Attention_based_Deep_Multiple_Instance_Learning) |"
   ]
  }
 ],
 "metadata": {
  "colab": {
   "collapsed_sections": [],
   "name": "attention_mil_classification",
   "private_outputs": false,
   "provenance": [],
   "toc_visible": true
  },
  "kernelspec": {
   "display_name": "Python 3 (ipykernel)",
   "language": "python",
   "name": "python3"
  },
  "language_info": {
   "codemirror_mode": {
    "name": "ipython",
    "version": 3
   },
   "file_extension": ".py",
   "mimetype": "text/x-python",
   "name": "python",
   "nbconvert_exporter": "python",
   "pygments_lexer": "ipython3",
   "version": "3.9.12"
  }
 },
 "nbformat": 4,
 "nbformat_minor": 1
}
